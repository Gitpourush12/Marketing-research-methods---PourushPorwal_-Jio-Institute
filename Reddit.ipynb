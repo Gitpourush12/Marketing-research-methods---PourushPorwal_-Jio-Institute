{
  "nbformat": 4,
  "nbformat_minor": 0,
  "metadata": {
    "colab": {
      "provenance": []
    },
    "kernelspec": {
      "name": "python3",
      "display_name": "Python 3"
    },
    "language_info": {
      "name": "python"
    }
  },
  "cells": [
    {
      "cell_type": "code",
      "execution_count": 5,
      "metadata": {
        "colab": {
          "base_uri": "https://localhost:8080/"
        },
        "id": "vsN0ITZn-U9Z",
        "outputId": "1703442b-f186-488a-e0ce-b1e1bd1842f8"
      },
      "outputs": [
        {
          "output_type": "stream",
          "name": "stdout",
          "text": [
            "Scraping data...\n"
          ]
        },
        {
          "output_type": "stream",
          "name": "stderr",
          "text": [
            "<ipython-input-5-1196c9da8a85>:94: DeprecationWarning: Using CommentForest as an asynchronous iterator has been deprecated and will be removed in a future version.\n",
            "  df = await scrape_reddit_data(subreddit_name, limit=500)\n"
          ]
        },
        {
          "output_type": "stream",
          "name": "stdout",
          "text": [
            "Scraping complete.\n",
            "   post_id                                         post_title  \\\n",
            "0  1ildz22                            7 hours with Uber black   \n",
            "1  1ildvf3                   Share disappeared - anyone else?   \n",
            "2  1ildp4e                     Two years of offers like this.   \n",
            "3  1ildf2n   Tried uber share for the first time, what a scam   \n",
            "4  1ilcder  Pax should not be allowed to change the trip w...   \n",
            "\n",
            "           post_author                                          post_text  \\\n",
            "0          Brandon2058  Not to bad $50+ per hour just doing straight U...   \n",
            "1      ___Your___Mom__  Not complaining, happy it's gone. Everyday whe...   \n",
            "2  No-Examination-4742                                                      \n",
            "3    misterstealurbaby            5 dollars for 15km and almost one hour.   \n",
            "4            TrollBond  It was a nice warm afternoon and I had only 20...   \n",
            "\n",
            "           post_created_utc  \\\n",
            "0 2025-02-09 04:47:12-08:00   \n",
            "1 2025-02-09 04:41:05-08:00   \n",
            "2 2025-02-09 04:30:10-08:00   \n",
            "3 2025-02-09 04:12:15-08:00   \n",
            "4 2025-02-09 03:01:20-08:00   \n",
            "\n",
            "                                            post_url  post_upvotes  \\\n",
            "0               https://i.redd.it/6dp7hynq04ie1.jpeg             3   \n",
            "1  https://www.reddit.com/r/uberdrivers/comments/...             1   \n",
            "2             https://www.reddit.com/gallery/1ildp4e             1   \n",
            "3             https://www.reddit.com/gallery/1ildf2n             5   \n",
            "4  https://www.reddit.com/r/uberdrivers/comments/...            24   \n",
            "\n",
            "   post_num_comments                                           comments  \n",
            "0                  2  [{'comment_id': 'mbtw9hs', 'comment_author': '...  \n",
            "1                  1  [{'comment_id': 'mbtuqqu', 'comment_author': '...  \n",
            "2                  1  [{'comment_id': 'mbtxfbl', 'comment_author': '...  \n",
            "3                  0                                                 []  \n",
            "4                 19  [{'comment_id': 'mbtlljn', 'comment_author': '...  \n",
            "Data saved to uberdrivers_reddit_data_2025-02-09_13-59-42.csv\n"
          ]
        }
      ],
      "source": [
        "import asyncio\n",
        "import nest_asyncio\n",
        "import praw\n",
        "import pandas as pd\n",
        "from datetime import datetime\n",
        "from google.colab import userdata\n",
        "\n",
        "# Install praw if it's not already installed\n",
        "try:\n",
        "    import praw\n",
        "except ModuleNotFoundError:\n",
        "    print(\"praw module not found. Installing...\")\n",
        "    !pip install praw\n",
        "    import praw\n",
        "try:\n",
        "    import asyncpraw\n",
        "except ModuleNotFoundError:\n",
        "    print(\"asyncpraw module not found. Installing...\")\n",
        "    !pip install asyncpraw\n",
        "    import asyncpraw\n",
        "\n",
        "# Get Reddit API credentials from Colab secrets\n",
        "try:\n",
        "    client_id = userdata.get('client_id')\n",
        "    client_secret = userdata.get('secret_key')\n",
        "    user_agent = userdata.get('user_agent')\n",
        "except KeyError as e:\n",
        "    raise KeyError(f\"Missing Reddit API credential: {e}. Please ensure it's set in Colab secrets.\")\n",
        "\n",
        "# Initialize Reddit API client\n",
        "async def create_async_reddit_instance():\n",
        "    return asyncpraw.Reddit(\n",
        "        client_id=client_id,\n",
        "        client_secret=client_secret,\n",
        "        user_agent=user_agent\n",
        "    )\n",
        "\n",
        "# Define subreddit\n",
        "subreddit_name = \"uberdrivers\"\n",
        "\n",
        "\n",
        "# --- Function to Scrape Posts and Comments ---\n",
        "async def scrape_reddit_data(subreddit_name, limit=500):\n",
        "    \"\"\"\n",
        "    Scrapes Reddit posts and their comments from a given subreddit using asyncpraw.\n",
        "\n",
        "    Args:\n",
        "        subreddit_name (str): The name of the subreddit to scrape.\n",
        "        limit (int): The number of posts to retrieve.\n",
        "\n",
        "    Returns:\n",
        "        pandas.DataFrame: A DataFrame containing the scraped data.\n",
        "    \"\"\"\n",
        "    reddit = await create_async_reddit_instance()\n",
        "    subreddit = await reddit.subreddit(subreddit_name)\n",
        "\n",
        "    posts_data = []\n",
        "    async for submission in subreddit.new(limit=limit):\n",
        "        await submission.load() # Load the submission before accessing comments\n",
        "        post_info = {\n",
        "            'post_id': submission.id,\n",
        "            'post_title': submission.title,\n",
        "            'post_author': str(submission.author),\n",
        "            'post_text': submission.selftext,\n",
        "            'post_created_utc': datetime.utcfromtimestamp(submission.created_utc),\n",
        "            'post_url': submission.url,\n",
        "            'post_upvotes': submission.score,\n",
        "            'post_num_comments': submission.num_comments,\n",
        "            'comments': [] # Initialize the list to store comments\n",
        "        }\n",
        "\n",
        "        async for comment in submission.comments:\n",
        "            if isinstance(comment, asyncpraw.models.MoreComments):\n",
        "                continue\n",
        "            comment_info = {\n",
        "                'comment_id': comment.id,\n",
        "                'comment_author': str(comment.author),\n",
        "                'comment_text': comment.body,\n",
        "                'comment_created_utc': datetime.utcfromtimestamp(comment.created_utc),\n",
        "                'comment_upvotes': comment.score,\n",
        "                'parent_id': comment.parent_id if hasattr(comment, 'parent_id') else None #Parent id may be null\n",
        "            }\n",
        "            post_info['comments'].append(comment_info)\n",
        "\n",
        "        posts_data.append(post_info)\n",
        "    await reddit.close()\n",
        "    return pd.DataFrame(posts_data)\n",
        "\n",
        "\n",
        "\n",
        "# --- Run Scraper and Store Data ---\n",
        "async def main():\n",
        "    print(\"Scraping data...\")\n",
        "    df = await scrape_reddit_data(subreddit_name, limit=500)\n",
        "    print(\"Scraping complete.\")\n",
        "\n",
        "    # Convert post_created_utc to local time\n",
        "    df['post_created_utc'] = df['post_created_utc'].dt.tz_localize('UTC').dt.tz_convert('America/Los_Angeles')\n",
        "    # Convert comment created utc to local time\n",
        "    for i, row in df.iterrows():\n",
        "        for comment in row['comments']:\n",
        "            comment['comment_created_utc'] = datetime.utcfromtimestamp(comment['comment_created_utc'].timestamp()).replace(tzinfo=None)\n",
        "            comment['comment_created_utc'] = pd.to_datetime(comment['comment_created_utc']).tz_localize('UTC').tz_convert('America/Los_Angeles')\n",
        "\n",
        "    # --- Display and Save Data ---\n",
        "    print(df.head())\n",
        "\n",
        "    # Save data to a CSV file\n",
        "    file_name = f\"{subreddit_name}_reddit_data_{datetime.now().strftime('%Y-%m-%d_%H-%M-%S')}.csv\"\n",
        "    df.to_csv(file_name, index=False)\n",
        "    print(f\"Data saved to {file_name}\")\n",
        "\n",
        "\n",
        "if __name__ == \"__main__\":\n",
        "    nest_asyncio.apply()\n",
        "    asyncio.run(main())"
      ]
    },
    {
      "cell_type": "code",
      "source": [
        "!pip install praw"
      ],
      "metadata": {
        "colab": {
          "base_uri": "https://localhost:8080/"
        },
        "id": "rxcISiD4-coQ",
        "outputId": "b4c3741c-8f95-4cca-c85f-30ea96b8e205"
      },
      "execution_count": 3,
      "outputs": [
        {
          "output_type": "stream",
          "name": "stdout",
          "text": [
            "Collecting praw\n",
            "  Downloading praw-7.8.1-py3-none-any.whl.metadata (9.4 kB)\n",
            "Collecting prawcore<3,>=2.4 (from praw)\n",
            "  Downloading prawcore-2.4.0-py3-none-any.whl.metadata (5.0 kB)\n",
            "Collecting update_checker>=0.18 (from praw)\n",
            "  Downloading update_checker-0.18.0-py3-none-any.whl.metadata (2.3 kB)\n",
            "Requirement already satisfied: websocket-client>=0.54.0 in /usr/local/lib/python3.10/dist-packages (from praw) (1.8.0)\n",
            "Requirement already satisfied: requests<3.0,>=2.6.0 in /usr/local/lib/python3.10/dist-packages (from prawcore<3,>=2.4->praw) (2.32.3)\n",
            "Requirement already satisfied: charset-normalizer<4,>=2 in /usr/local/lib/python3.10/dist-packages (from requests<3.0,>=2.6.0->prawcore<3,>=2.4->praw) (3.4.0)\n",
            "Requirement already satisfied: idna<4,>=2.5 in /usr/local/lib/python3.10/dist-packages (from requests<3.0,>=2.6.0->prawcore<3,>=2.4->praw) (3.10)\n",
            "Requirement already satisfied: urllib3<3,>=1.21.1 in /usr/local/lib/python3.10/dist-packages (from requests<3.0,>=2.6.0->prawcore<3,>=2.4->praw) (2.2.3)\n",
            "Requirement already satisfied: certifi>=2017.4.17 in /usr/local/lib/python3.10/dist-packages (from requests<3.0,>=2.6.0->prawcore<3,>=2.4->praw) (2024.12.14)\n",
            "Downloading praw-7.8.1-py3-none-any.whl (189 kB)\n",
            "\u001b[2K   \u001b[90m━━━━━━━━━━━━━━━━━━━━━━━━━━━━━━━━━━━━━━━━\u001b[0m \u001b[32m189.3/189.3 kB\u001b[0m \u001b[31m4.0 MB/s\u001b[0m eta \u001b[36m0:00:00\u001b[0m\n",
            "\u001b[?25hDownloading prawcore-2.4.0-py3-none-any.whl (17 kB)\n",
            "Downloading update_checker-0.18.0-py3-none-any.whl (7.0 kB)\n",
            "Installing collected packages: update_checker, prawcore, praw\n",
            "Successfully installed praw-7.8.1 prawcore-2.4.0 update_checker-0.18.0\n"
          ]
        }
      ]
    }
  ]
}