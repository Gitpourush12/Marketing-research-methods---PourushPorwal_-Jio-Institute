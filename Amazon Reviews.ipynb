{
  "nbformat": 4,
  "nbformat_minor": 0,
  "metadata": {
    "colab": {
      "provenance": []
    },
    "kernelspec": {
      "name": "python3",
      "display_name": "Python 3"
    },
    "language_info": {
      "name": "python"
    }
  },
  "cells": [
    {
      "cell_type": "code",
      "execution_count": 1,
      "metadata": {
        "colab": {
          "base_uri": "https://localhost:8080/"
        },
        "id": "T3iln5H74_7Y",
        "outputId": "1db6f2a8-5d95-4837-b2e2-1086d574c3ce"
      },
      "outputs": [
        {
          "output_type": "stream",
          "name": "stderr",
          "text": [
            "[nltk_data] Downloading package punkt to /root/nltk_data...\n",
            "[nltk_data]   Unzipping tokenizers/punkt.zip.\n"
          ]
        },
        {
          "output_type": "stream",
          "name": "stdout",
          "text": [
            "                                                Text  Sentiment Score  \\\n",
            "0  I have bought several of the Vitality canned d...         0.450000   \n",
            "1  Product arrived labeled as Jumbo Salted Peanut...        -0.033333   \n",
            "2  This is a confection that has been around a fe...         0.133571   \n",
            "3  If you are looking for the secret ingredient i...         0.166667   \n",
            "4  Great taffy at a great price.  There was a wid...         0.483333   \n",
            "\n",
            "  Sentiment Label  \n",
            "0        Positive  \n",
            "1        Negative  \n",
            "2        Positive  \n",
            "3        Positive  \n",
            "4        Positive  \n",
            "Sentiment analysis completed. Results saved.\n"
          ]
        }
      ],
      "source": [
        "import pandas as pd\n",
        "from textblob import TextBlob\n",
        "import nltk\n",
        "nltk.download('punkt')\n",
        "\n",
        "def get_sentiment(text):\n",
        "    \"\"\"Determine sentiment polarity (-1 to 1)\"\"\"\n",
        "    return TextBlob(text).sentiment.polarity\n",
        "\n",
        "def classify_sentiment(score):\n",
        "    \"\"\"Convert polarity score to sentiment label\"\"\"\n",
        "    if score > 0:\n",
        "        return \"Positive\"\n",
        "    elif score < 0:\n",
        "        return \"Negative\"\n",
        "    else:\n",
        "        return \"Neutral\"\n",
        "\n",
        "# Load dataset\n",
        "df = pd.read_csv(\"/content/Reviews 500.csv\")\n",
        "\n",
        "# Ensure relevant text column exists\n",
        "if 'Text' not in df.columns:\n",
        "    raise ValueError(\"Column 'Text' not found in dataset\")\n",
        "\n",
        "# Compute sentiment scores\n",
        "df['Sentiment Score'] = df['Text'].apply(get_sentiment)\n",
        "df['Sentiment Label'] = df['Sentiment Score'].apply(classify_sentiment)\n",
        "\n",
        "# Display analysis results\n",
        "print(df[['Text', 'Sentiment Score', 'Sentiment Label']].head())\n",
        "\n",
        "# Save results\n",
        "df.to_csv(\"/content/Reviews_500_Sentiment.csv\", index=False)\n",
        "print(\"Sentiment analysis completed. Results saved.\")\n"
      ]
    }
  ]
}